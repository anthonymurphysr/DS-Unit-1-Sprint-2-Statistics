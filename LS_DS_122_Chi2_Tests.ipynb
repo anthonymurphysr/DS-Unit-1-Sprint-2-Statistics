{
  "nbformat": 4,
  "nbformat_minor": 0,
  "metadata": {
    "colab": {
      "name": "LS_DS_122_Chi2_Tests.ipynb",
      "provenance": [],
      "collapsed_sections": [],
      "include_colab_link": true
    },
    "kernelspec": {
      "name": "python3",
      "display_name": "Python 3"
    }
  },
  "cells": [
    {
      "cell_type": "markdown",
      "metadata": {
        "id": "view-in-github",
        "colab_type": "text"
      },
      "source": [
        "<a href=\"https://colab.research.google.com/github/anthonymurphysr/DS-Unit-1-Sprint-2-Statistics/blob/master/LS_DS_122_Chi2_Tests.ipynb\" target=\"_parent\"><img src=\"https://colab.research.google.com/assets/colab-badge.svg\" alt=\"Open In Colab\"/></a>"
      ]
    },
    {
      "cell_type": "markdown",
      "metadata": {
        "id": "838Dmw1kM2LK",
        "colab_type": "text"
      },
      "source": [
        "# Lambda School Data Science Module 122\n",
        "## Hypothesis Testing - Chi-Square Tests"
      ]
    },
    {
      "cell_type": "markdown",
      "metadata": {
        "id": "dbcPKIo5M6Ny",
        "colab_type": "text"
      },
      "source": [
        "## Prepare \n",
        "In the last lecture, we learned about the t-test, which allows you to weigh evidence for or against the claim that mean of a population is equal to a reference value (the null hypothesis).\n",
        "\n",
        "T-tests are often the appropriate statistical test when you are working with a a quantitative, continuous variable.\n",
        "\n",
        "However, there are lots of other kinds of data and many other methods of data analysis.  For example, we might like to examine the relationship between two categorical variables.  In that case, we'd like to use a chi-square test.  \"Chi-square\" refers to a particular statistical distribution in the way that the t-test is called the t-test because it depends on the t-distribution.\n",
        "\n",
        "The chi-square test works - in general - by comparing the counts that actually appear in a two-way table to the counts we would expect to see if the two variables were not related to each other at all.\n",
        "\n",
        "[More about the Chi-square test](https://https://en.wikipedia.org/wiki/Chi-squared_test).\n"
      ]
    },
    {
      "cell_type": "markdown",
      "metadata": {
        "id": "gFR3uySzIuHW",
        "colab_type": "text"
      },
      "source": [
        "## Titanic Example\n",
        "\n",
        "In the early hours of April 15, 1912, the unsinkable ship RMS Titanic sank when it struck an iceberg, killing more than half of the passengers and crew aboard. \n",
        "\n",
        "The Titanic.csv dataset contains demographic information for 889 of those passengers as well as a record of whether or not each passenger survived. \n",
        "\n",
        "Our goal is to determine if there is a relationship between ticket class and passneger survival on the Titanic.\n",
        "\n"
      ]
    },
    {
      "cell_type": "markdown",
      "metadata": {
        "id": "Bq3kUBwiSdTC",
        "colab_type": "text"
      },
      "source": [
        "A chi-square test *always* tests the null hypothesis that there is *no* relationship between two variables vs. the alternative hypothesis that there *is* some relationship between the two variables.\n"
      ]
    },
    {
      "cell_type": "markdown",
      "metadata": {
        "id": "MqZXv4PwStTl",
        "colab_type": "text"
      },
      "source": [
        "Therefore, in this exmaple\n",
        "\n",
        "**Ho:** There ***is no*** relationship between passenger ticket class and survival on the Titanic.\n",
        "\n",
        "**Ha:** There ***is a*** relationship between passenger ticket class and survival on the Titanic."
      ]
    },
    {
      "cell_type": "code",
      "metadata": {
        "id": "H9MfqTT3Lgqm",
        "colab_type": "code",
        "colab": {
          "base_uri": "https://localhost:8080/",
          "height": 340
        },
        "outputId": "13e31233-65fa-42c4-8a31-8a983cf887bd"
      },
      "source": [
        "import pandas as pd\n",
        "import numpy as np\n",
        "\n",
        "\n",
        "data_url = 'https://raw.githubusercontent.com/Chelsea-Myers/Lambda-Intro/master/Titanic.csv'\n",
        "\n",
        "df = pd.read_csv(data_url, skipinitialspace=True, header=0)\n",
        "\n",
        "print(df.shape)\n",
        "df.head()"
      ],
      "execution_count": 1,
      "outputs": [
        {
          "output_type": "stream",
          "text": [
            "(887, 8)\n"
          ],
          "name": "stdout"
        },
        {
          "output_type": "execute_result",
          "data": {
            "text/html": [
              "<div>\n",
              "<style scoped>\n",
              "    .dataframe tbody tr th:only-of-type {\n",
              "        vertical-align: middle;\n",
              "    }\n",
              "\n",
              "    .dataframe tbody tr th {\n",
              "        vertical-align: top;\n",
              "    }\n",
              "\n",
              "    .dataframe thead th {\n",
              "        text-align: right;\n",
              "    }\n",
              "</style>\n",
              "<table border=\"1\" class=\"dataframe\">\n",
              "  <thead>\n",
              "    <tr style=\"text-align: right;\">\n",
              "      <th></th>\n",
              "      <th>Survived</th>\n",
              "      <th>Pclass</th>\n",
              "      <th>Name</th>\n",
              "      <th>Sex</th>\n",
              "      <th>Age</th>\n",
              "      <th>Siblings/Spouses_Aboard</th>\n",
              "      <th>Parents/Children_Aboard</th>\n",
              "      <th>Fare</th>\n",
              "    </tr>\n",
              "  </thead>\n",
              "  <tbody>\n",
              "    <tr>\n",
              "      <th>0</th>\n",
              "      <td>0</td>\n",
              "      <td>3</td>\n",
              "      <td>Mr. Owen Harris Braund</td>\n",
              "      <td>male</td>\n",
              "      <td>22.0</td>\n",
              "      <td>1</td>\n",
              "      <td>0</td>\n",
              "      <td>7.2500</td>\n",
              "    </tr>\n",
              "    <tr>\n",
              "      <th>1</th>\n",
              "      <td>1</td>\n",
              "      <td>1</td>\n",
              "      <td>Mrs. John Bradley (Florence Briggs Thayer) Cum...</td>\n",
              "      <td>female</td>\n",
              "      <td>38.0</td>\n",
              "      <td>1</td>\n",
              "      <td>0</td>\n",
              "      <td>71.2833</td>\n",
              "    </tr>\n",
              "    <tr>\n",
              "      <th>2</th>\n",
              "      <td>1</td>\n",
              "      <td>3</td>\n",
              "      <td>Miss. Laina Heikkinen</td>\n",
              "      <td>female</td>\n",
              "      <td>26.0</td>\n",
              "      <td>0</td>\n",
              "      <td>0</td>\n",
              "      <td>7.9250</td>\n",
              "    </tr>\n",
              "    <tr>\n",
              "      <th>3</th>\n",
              "      <td>1</td>\n",
              "      <td>1</td>\n",
              "      <td>Mrs. Jacques Heath (Lily May Peel) Futrelle</td>\n",
              "      <td>female</td>\n",
              "      <td>35.0</td>\n",
              "      <td>1</td>\n",
              "      <td>0</td>\n",
              "      <td>53.1000</td>\n",
              "    </tr>\n",
              "    <tr>\n",
              "      <th>4</th>\n",
              "      <td>0</td>\n",
              "      <td>3</td>\n",
              "      <td>Mr. William Henry Allen</td>\n",
              "      <td>male</td>\n",
              "      <td>35.0</td>\n",
              "      <td>0</td>\n",
              "      <td>0</td>\n",
              "      <td>8.0500</td>\n",
              "    </tr>\n",
              "  </tbody>\n",
              "</table>\n",
              "</div>"
            ],
            "text/plain": [
              "   Survived  Pclass  ... Parents/Children_Aboard     Fare\n",
              "0         0       3  ...                       0   7.2500\n",
              "1         1       1  ...                       0  71.2833\n",
              "2         1       3  ...                       0   7.9250\n",
              "3         1       1  ...                       0  53.1000\n",
              "4         0       3  ...                       0   8.0500\n",
              "\n",
              "[5 rows x 8 columns]"
            ]
          },
          "metadata": {
            "tags": []
          },
          "execution_count": 1
        }
      ]
    },
    {
      "cell_type": "markdown",
      "metadata": {
        "id": "6PYW6S2ENbt5",
        "colab_type": "text"
      },
      "source": [
        "Survived = 0 means the passenger did not survive and \n",
        "Surivived = 1 means the passenger did survive.\n",
        "\n",
        "Pclass = 1, 2, 3 indicates the passenger had a 1st, 2nd or 3rd class ticket, respectively."
      ]
    },
    {
      "cell_type": "markdown",
      "metadata": {
        "id": "pjxovVDJNqD4",
        "colab_type": "text"
      },
      "source": [
        "To start, let's look at the freqeuncy and relative frequency of surival on the Titanic."
      ]
    },
    {
      "cell_type": "code",
      "metadata": {
        "id": "-OmuXo0QOh0U",
        "colab_type": "code",
        "colab": {
          "base_uri": "https://localhost:8080/",
          "height": 85
        },
        "outputId": "9e2a1fcf-85e8-4310-d31b-96cb354c9ed3"
      },
      "source": [
        "#Frequency of survival\n",
        "Survival = pd.crosstab(index = df['Survived'], columns = 'columns')\n",
        "print(Survival)\n"
      ],
      "execution_count": 2,
      "outputs": [
        {
          "output_type": "stream",
          "text": [
            "col_0     columns\n",
            "Survived         \n",
            "0             545\n",
            "1             342\n"
          ],
          "name": "stdout"
        }
      ]
    },
    {
      "cell_type": "code",
      "metadata": {
        "id": "0GJ82NyuPU0a",
        "colab_type": "code",
        "colab": {
          "base_uri": "https://localhost:8080/",
          "height": 142
        },
        "outputId": "6a180dd7-bbe2-4c83-db8b-363e9c9836be"
      },
      "source": [
        "#Relative frequency of survival.  Multiply by 100 to convert from\n",
        "#proportions to percents\n",
        "Survival / Survival.sum()\n",
        "\n"
      ],
      "execution_count": 3,
      "outputs": [
        {
          "output_type": "execute_result",
          "data": {
            "text/html": [
              "<div>\n",
              "<style scoped>\n",
              "    .dataframe tbody tr th:only-of-type {\n",
              "        vertical-align: middle;\n",
              "    }\n",
              "\n",
              "    .dataframe tbody tr th {\n",
              "        vertical-align: top;\n",
              "    }\n",
              "\n",
              "    .dataframe thead th {\n",
              "        text-align: right;\n",
              "    }\n",
              "</style>\n",
              "<table border=\"1\" class=\"dataframe\">\n",
              "  <thead>\n",
              "    <tr style=\"text-align: right;\">\n",
              "      <th>col_0</th>\n",
              "      <th>columns</th>\n",
              "    </tr>\n",
              "    <tr>\n",
              "      <th>Survived</th>\n",
              "      <th></th>\n",
              "    </tr>\n",
              "  </thead>\n",
              "  <tbody>\n",
              "    <tr>\n",
              "      <th>0</th>\n",
              "      <td>0.614431</td>\n",
              "    </tr>\n",
              "    <tr>\n",
              "      <th>1</th>\n",
              "      <td>0.385569</td>\n",
              "    </tr>\n",
              "  </tbody>\n",
              "</table>\n",
              "</div>"
            ],
            "text/plain": [
              "col_0      columns\n",
              "Survived          \n",
              "0         0.614431\n",
              "1         0.385569"
            ]
          },
          "metadata": {
            "tags": []
          },
          "execution_count": 3
        }
      ]
    },
    {
      "cell_type": "markdown",
      "metadata": {
        "id": "VKynT9-TPdff",
        "colab_type": "text"
      },
      "source": [
        "Survival results here:   ***61% of passengers did not survive and 38% of passengers did.***\n"
      ]
    },
    {
      "cell_type": "markdown",
      "metadata": {
        "id": "FTsevjpdPiDm",
        "colab_type": "text"
      },
      "source": [
        "Now let's look at the frequency and relative frequency of ticket class.\n"
      ]
    },
    {
      "cell_type": "code",
      "metadata": {
        "id": "G5wpvh-vPtJG",
        "colab_type": "code",
        "colab": {}
      },
      "source": [
        "#Frequency and relative frequency of ticket class."
      ],
      "execution_count": 4,
      "outputs": []
    },
    {
      "cell_type": "code",
      "metadata": {
        "id": "6HXq-_bqP1yA",
        "colab_type": "code",
        "colab": {
          "base_uri": "https://localhost:8080/",
          "height": 102
        },
        "outputId": "3eabd1a6-1862-4b84-e52e-96ccbfb46a5f"
      },
      "source": [
        "Ticket_class = pd.crosstab(index = df['Pclass'], columns='columns')\n",
        "\n",
        "print(Ticket_class)"
      ],
      "execution_count": 5,
      "outputs": [
        {
          "output_type": "stream",
          "text": [
            "col_0   columns\n",
            "Pclass         \n",
            "1           216\n",
            "2           184\n",
            "3           487\n"
          ],
          "name": "stdout"
        }
      ]
    },
    {
      "cell_type": "code",
      "metadata": {
        "id": "C-vh6JbSInfN",
        "colab_type": "code",
        "colab": {
          "base_uri": "https://localhost:8080/",
          "height": 173
        },
        "outputId": "d4adff15-ea94-4561-f009-8323a86ccde2"
      },
      "source": [
        "Ticket_class / Ticket_class.sum()"
      ],
      "execution_count": 6,
      "outputs": [
        {
          "output_type": "execute_result",
          "data": {
            "text/html": [
              "<div>\n",
              "<style scoped>\n",
              "    .dataframe tbody tr th:only-of-type {\n",
              "        vertical-align: middle;\n",
              "    }\n",
              "\n",
              "    .dataframe tbody tr th {\n",
              "        vertical-align: top;\n",
              "    }\n",
              "\n",
              "    .dataframe thead th {\n",
              "        text-align: right;\n",
              "    }\n",
              "</style>\n",
              "<table border=\"1\" class=\"dataframe\">\n",
              "  <thead>\n",
              "    <tr style=\"text-align: right;\">\n",
              "      <th>col_0</th>\n",
              "      <th>columns</th>\n",
              "    </tr>\n",
              "    <tr>\n",
              "      <th>Pclass</th>\n",
              "      <th></th>\n",
              "    </tr>\n",
              "  </thead>\n",
              "  <tbody>\n",
              "    <tr>\n",
              "      <th>1</th>\n",
              "      <td>0.243517</td>\n",
              "    </tr>\n",
              "    <tr>\n",
              "      <th>2</th>\n",
              "      <td>0.207441</td>\n",
              "    </tr>\n",
              "    <tr>\n",
              "      <th>3</th>\n",
              "      <td>0.549042</td>\n",
              "    </tr>\n",
              "  </tbody>\n",
              "</table>\n",
              "</div>"
            ],
            "text/plain": [
              "col_0    columns\n",
              "Pclass          \n",
              "1       0.243517\n",
              "2       0.207441\n",
              "3       0.549042"
            ]
          },
          "metadata": {
            "tags": []
          },
          "execution_count": 6
        }
      ]
    },
    {
      "cell_type": "markdown",
      "metadata": {
        "id": "CXLE0CZwP96L",
        "colab_type": "text"
      },
      "source": [
        "Passenger class results here: "
      ]
    },
    {
      "cell_type": "markdown",
      "metadata": {
        "id": "O6i9Mmh0QGvo",
        "colab_type": "text"
      },
      "source": [
        "Now let's look at the joint distribution of survival by passenger class.  That means we want to see how many people fall into each combination of the two categories."
      ]
    },
    {
      "cell_type": "code",
      "metadata": {
        "id": "tlBel8j9M6tB",
        "colab_type": "code",
        "colab": {
          "base_uri": "https://localhost:8080/",
          "height": 102
        },
        "outputId": "c6164f07-d477-4ced-cda2-7133f7f3bfd3"
      },
      "source": [
        "#Joint distribution\n",
        "joint = pd.crosstab(df['Pclass'], df['Survived'])\n",
        "print(joint)"
      ],
      "execution_count": 7,
      "outputs": [
        {
          "output_type": "stream",
          "text": [
            "Survived    0    1\n",
            "Pclass            \n",
            "1          80  136\n",
            "2          97   87\n",
            "3         368  119\n"
          ],
          "name": "stdout"
        }
      ]
    },
    {
      "cell_type": "markdown",
      "metadata": {
        "id": "FJqraSFAS4eE",
        "colab_type": "text"
      },
      "source": [
        "So... is there a relationship between ticket class and survival?  "
      ]
    },
    {
      "cell_type": "markdown",
      "metadata": {
        "id": "ognwwnHyTOn3",
        "colab_type": "text"
      },
      "source": [
        "Let's begin by including the marginal distribution of each variable.  We actually calculated those before, but we can add them to the \"margins\" of the two-way table (hence the name marginal distribution) so we can remember how many people survived overall and how many people were in each ticket class overall."
      ]
    },
    {
      "cell_type": "code",
      "metadata": {
        "colab_type": "code",
        "id": "lRnahAiao1X5",
        "colab": {
          "base_uri": "https://localhost:8080/",
          "height": 204
        },
        "outputId": "dc25163d-fe96-4f6e-e990-cc8586be3eb2"
      },
      "source": [
        "# Joint distribution with margins\n",
        "joint = pd.crosstab(df['Pclass'], df['Survived'], margins=True)\n",
        "joint"
      ],
      "execution_count": 8,
      "outputs": [
        {
          "output_type": "execute_result",
          "data": {
            "text/html": [
              "<div>\n",
              "<style scoped>\n",
              "    .dataframe tbody tr th:only-of-type {\n",
              "        vertical-align: middle;\n",
              "    }\n",
              "\n",
              "    .dataframe tbody tr th {\n",
              "        vertical-align: top;\n",
              "    }\n",
              "\n",
              "    .dataframe thead th {\n",
              "        text-align: right;\n",
              "    }\n",
              "</style>\n",
              "<table border=\"1\" class=\"dataframe\">\n",
              "  <thead>\n",
              "    <tr style=\"text-align: right;\">\n",
              "      <th>Survived</th>\n",
              "      <th>0</th>\n",
              "      <th>1</th>\n",
              "      <th>All</th>\n",
              "    </tr>\n",
              "    <tr>\n",
              "      <th>Pclass</th>\n",
              "      <th></th>\n",
              "      <th></th>\n",
              "      <th></th>\n",
              "    </tr>\n",
              "  </thead>\n",
              "  <tbody>\n",
              "    <tr>\n",
              "      <th>1</th>\n",
              "      <td>80</td>\n",
              "      <td>136</td>\n",
              "      <td>216</td>\n",
              "    </tr>\n",
              "    <tr>\n",
              "      <th>2</th>\n",
              "      <td>97</td>\n",
              "      <td>87</td>\n",
              "      <td>184</td>\n",
              "    </tr>\n",
              "    <tr>\n",
              "      <th>3</th>\n",
              "      <td>368</td>\n",
              "      <td>119</td>\n",
              "      <td>487</td>\n",
              "    </tr>\n",
              "    <tr>\n",
              "      <th>All</th>\n",
              "      <td>545</td>\n",
              "      <td>342</td>\n",
              "      <td>887</td>\n",
              "    </tr>\n",
              "  </tbody>\n",
              "</table>\n",
              "</div>"
            ],
            "text/plain": [
              "Survived    0    1  All\n",
              "Pclass                 \n",
              "1          80  136  216\n",
              "2          97   87  184\n",
              "3         368  119  487\n",
              "All       545  342  887"
            ]
          },
          "metadata": {
            "tags": []
          },
          "execution_count": 8
        }
      ]
    },
    {
      "cell_type": "markdown",
      "metadata": {
        "id": "mUVwexDOo5Nm",
        "colab_type": "text"
      },
      "source": [
        "But what we really want to know is \"Of people in each ticket class, what proportion survived?\"  We can compare those proportions and see if they are the same or different.\n",
        "\n",
        "We use \"normalize = index\" to tell Python that we want to compute the proportion of individuals who did and did not survive by the row variable (what Python calls the index variable).  \n",
        "\n",
        "In statistical terminology, we call this the conditional distribution.  We are computing the distribution of survival *conditional* on what passenger class they were in."
      ]
    },
    {
      "cell_type": "code",
      "metadata": {
        "id": "uut5TSEAocmx",
        "colab_type": "code",
        "colab": {
          "base_uri": "https://localhost:8080/",
          "height": 173
        },
        "outputId": "b1fa5a37-a5dd-4f5d-8c38-788ee9e42b21"
      },
      "source": [
        "#Conditional distribution of survival by passenger class\n",
        "cond_itional = pd.crosstab(df['Pclass'], df['Survived'], normalize='index')*100\n",
        "cond_itional"
      ],
      "execution_count": 9,
      "outputs": [
        {
          "output_type": "execute_result",
          "data": {
            "text/html": [
              "<div>\n",
              "<style scoped>\n",
              "    .dataframe tbody tr th:only-of-type {\n",
              "        vertical-align: middle;\n",
              "    }\n",
              "\n",
              "    .dataframe tbody tr th {\n",
              "        vertical-align: top;\n",
              "    }\n",
              "\n",
              "    .dataframe thead th {\n",
              "        text-align: right;\n",
              "    }\n",
              "</style>\n",
              "<table border=\"1\" class=\"dataframe\">\n",
              "  <thead>\n",
              "    <tr style=\"text-align: right;\">\n",
              "      <th>Survived</th>\n",
              "      <th>0</th>\n",
              "      <th>1</th>\n",
              "    </tr>\n",
              "    <tr>\n",
              "      <th>Pclass</th>\n",
              "      <th></th>\n",
              "      <th></th>\n",
              "    </tr>\n",
              "  </thead>\n",
              "  <tbody>\n",
              "    <tr>\n",
              "      <th>1</th>\n",
              "      <td>37.037037</td>\n",
              "      <td>62.962963</td>\n",
              "    </tr>\n",
              "    <tr>\n",
              "      <th>2</th>\n",
              "      <td>52.717391</td>\n",
              "      <td>47.282609</td>\n",
              "    </tr>\n",
              "    <tr>\n",
              "      <th>3</th>\n",
              "      <td>75.564682</td>\n",
              "      <td>24.435318</td>\n",
              "    </tr>\n",
              "  </tbody>\n",
              "</table>\n",
              "</div>"
            ],
            "text/plain": [
              "Survived          0          1\n",
              "Pclass                        \n",
              "1         37.037037  62.962963\n",
              "2         52.717391  47.282609\n",
              "3         75.564682  24.435318"
            ]
          },
          "metadata": {
            "tags": []
          },
          "execution_count": 9
        }
      ]
    },
    {
      "cell_type": "markdown",
      "metadata": {
        "id": "eTuzvCsVU-GC",
        "colab_type": "text"
      },
      "source": [
        "We observe:"
      ]
    },
    {
      "cell_type": "markdown",
      "metadata": {
        "id": "SSjO9J7ZV7kY",
        "colab_type": "text"
      },
      "source": [
        "But because we haven't actually computed a statistical test, we don't know for sure if there is strong evidence that there is a relationship between ticket class and survival.  That's where the Chi-Square test comes in."
      ]
    },
    {
      "cell_type": "markdown",
      "metadata": {
        "id": "YZwjlEvEWOv6",
        "colab_type": "text"
      },
      "source": [
        "As a refresher:\n",
        "\n",
        "**Ho:** There is no relationship between survival and Pclass\n",
        "\n",
        "**Ha:** There is a relationship between survival and pclass "
      ]
    },
    {
      "cell_type": "markdown",
      "metadata": {
        "id": "Y1Pt_aECZEti",
        "colab_type": "text"
      },
      "source": [
        "Just like in the t-test examples, if the p-value is less than the significance level, we will reject the null hypothesis.  If the p-value is greater than the significance level, we will fail to reject."
      ]
    },
    {
      "cell_type": "markdown",
      "metadata": {
        "id": "6H6ki7rYZOj1",
        "colab_type": "text"
      },
      "source": [
        "We import the chi-square function (chi2_contingency) from scipy.stats.  \n",
        "\n",
        "**Take a very close look at the entry in the contingency table function**. It is the *table* we created above, not just the two variables of interest.\n",
        "\n",
        "The chi2_contingency function has a lot of output, but we are most interested in the p-value, which we are calling p below.  "
      ]
    },
    {
      "cell_type": "code",
      "metadata": {
        "id": "eNwb4YNSWJqe",
        "colab_type": "code",
        "colab": {}
      },
      "source": [
        "from scipy.stats import chi2_contingency\n",
        "\n",
        "#Chi-square test\n"
      ],
      "execution_count": 10,
      "outputs": []
    },
    {
      "cell_type": "code",
      "metadata": {
        "id": "KoOLo6PYNAmY",
        "colab_type": "code",
        "colab": {
          "base_uri": "https://localhost:8080/",
          "height": 34
        },
        "outputId": "94f3dadc-1632-4635-fad9-13d95787ea1a"
      },
      "source": [
        "g, p, dof, exptd = chi2_contingency(pd.crosstab(df['Pclass'], df['Survived']))\n",
        "\n",
        "print(p)"
      ],
      "execution_count": 12,
      "outputs": [
        {
          "output_type": "stream",
          "text": [
            "1.0496962042983216e-22\n"
          ],
          "name": "stdout"
        }
      ]
    },
    {
      "cell_type": "markdown",
      "metadata": {
        "id": "_E7z5tdGZ2uC",
        "colab_type": "text"
      },
      "source": [
        "P-value = 1.04e-22"
      ]
    },
    {
      "cell_type": "markdown",
      "metadata": {
        "id": "7Pq1ef1CaJra",
        "colab_type": "text"
      },
      "source": [
        "So... we definitely think that passenger ticket class is ???"
      ]
    },
    {
      "cell_type": "markdown",
      "metadata": {
        "id": "HMH1-hIVaWxc",
        "colab_type": "text"
      },
      "source": [
        "Let's make a nice visualization - a side by side bar plot - to illustrate this relationship.\n",
        "\n"
      ]
    },
    {
      "cell_type": "markdown",
      "metadata": {
        "id": "4Y9nzI3vbDCU",
        "colab_type": "text"
      },
      "source": [
        "First, let's take a look at our conditional distribution of survival by passenger class again."
      ]
    },
    {
      "cell_type": "code",
      "metadata": {
        "id": "steEWv1kbHmG",
        "colab_type": "code",
        "colab": {
          "base_uri": "https://localhost:8080/",
          "height": 173
        },
        "outputId": "c2e43f73-75f1-4ae3-c48d-b9e18586601e"
      },
      "source": [
        "#Copy code for conditional distribution of survival by passenger class here:\n",
        "pctbyclass = pd.crosstab(df['Pclass'], df['Survived'], normalize='index')*100\n",
        "pctbyclass"
      ],
      "execution_count": 14,
      "outputs": [
        {
          "output_type": "execute_result",
          "data": {
            "text/html": [
              "<div>\n",
              "<style scoped>\n",
              "    .dataframe tbody tr th:only-of-type {\n",
              "        vertical-align: middle;\n",
              "    }\n",
              "\n",
              "    .dataframe tbody tr th {\n",
              "        vertical-align: top;\n",
              "    }\n",
              "\n",
              "    .dataframe thead th {\n",
              "        text-align: right;\n",
              "    }\n",
              "</style>\n",
              "<table border=\"1\" class=\"dataframe\">\n",
              "  <thead>\n",
              "    <tr style=\"text-align: right;\">\n",
              "      <th>Survived</th>\n",
              "      <th>0</th>\n",
              "      <th>1</th>\n",
              "    </tr>\n",
              "    <tr>\n",
              "      <th>Pclass</th>\n",
              "      <th></th>\n",
              "      <th></th>\n",
              "    </tr>\n",
              "  </thead>\n",
              "  <tbody>\n",
              "    <tr>\n",
              "      <th>1</th>\n",
              "      <td>37.037037</td>\n",
              "      <td>62.962963</td>\n",
              "    </tr>\n",
              "    <tr>\n",
              "      <th>2</th>\n",
              "      <td>52.717391</td>\n",
              "      <td>47.282609</td>\n",
              "    </tr>\n",
              "    <tr>\n",
              "      <th>3</th>\n",
              "      <td>75.564682</td>\n",
              "      <td>24.435318</td>\n",
              "    </tr>\n",
              "  </tbody>\n",
              "</table>\n",
              "</div>"
            ],
            "text/plain": [
              "Survived          0          1\n",
              "Pclass                        \n",
              "1         37.037037  62.962963\n",
              "2         52.717391  47.282609\n",
              "3         75.564682  24.435318"
            ]
          },
          "metadata": {
            "tags": []
          },
          "execution_count": 14
        }
      ]
    },
    {
      "cell_type": "markdown",
      "metadata": {
        "id": "IpgY1QZPbLia",
        "colab_type": "text"
      },
      "source": [
        "We'd like to create a bar plot where we compare the percent of surivors in each passenger class.\n",
        "\n",
        "We're going to start by creating two vectors: one for the percent of individuals who survived and one for the percent of individuals who didn't survive and plotting those with the help of some graphing parameters that are going to make everything line up nicely.\n",
        "\n",
        "[More info about barplots](https://https://matplotlib.org/examples/api/barchart_demo.html)."
      ]
    },
    {
      "cell_type": "code",
      "metadata": {
        "id": "41bOviWHa2j0",
        "colab_type": "code",
        "colab": {
          "base_uri": "https://localhost:8080/",
          "height": 281
        },
        "outputId": "2f9e3844-b66e-4fa5-8a54-27bba11cb3bf"
      },
      "source": [
        "import matplotlib.pyplot as plt\n",
        "\n",
        "# Need this for graphing purposes - it's the number of passenger classes\n",
        "N = 3\n",
        "\n",
        "\n",
        "Died = pctbyclass[0]\n",
        "Survived = pctbyclass[1]\n",
        "#Died = (37, 52, 75)\n",
        "#Survived = (63, 27, 24)\n",
        "\n",
        "#This is more graphical stuff\n",
        "ind = np.arange(N)  # the x locations for the groups\n",
        "width = 0.35       # the width of the bars\n",
        "\n",
        "#Create the plot\n",
        "fig, ax = plt.subplots()\n",
        "rects1 = ax.bar(ind, Died, width, color='g') #bars for died\n",
        "rects2 = ax.bar(ind + width, Survived, width, color='b') #bars for survived\n",
        "\n",
        "# add some text for labels, title and axes ticks\n",
        "ax.set_ylabel('Survived')\n",
        "ax.set_title('Survival by Class')\n",
        "ax.set_xticks(ind + width / 2)\n",
        "ax.set_xticklabels(('1st Class', '2nd Class', '3rd Class'))\n",
        "\n",
        "ax.legend((rects1[0], rects2[0]), ('Did not survive', 'Survived'));\n",
        "\n"
      ],
      "execution_count": 25,
      "outputs": [
        {
          "output_type": "display_data",
          "data": {
            "image/png": "[encoded data removed]",
            "text/plain": [
              "<Figure size 432x288 with 1 Axes>"
            ]
          },
          "metadata": {
            "tags": [],
            "needs_background": "light"
          }
        }
      ]
    },
    {
      "cell_type": "markdown",
      "metadata": {
        "id": "u5RpoaR_d2R_",
        "colab_type": "text"
      },
      "source": [
        "We can see by our lovely graph and chi-square test that:"
      ]
    },
    {
      "cell_type": "markdown",
      "metadata": {
        "id": "Lwpb3CmveWud",
        "colab_type": "text"
      },
      "source": [
        "\n",
        "\n",
        "---\n",
        "\n"
      ]
    },
    {
      "cell_type": "markdown",
      "metadata": {
        "id": "tS3aRmPiebpq",
        "colab_type": "text"
      },
      "source": [
        "Now let's look at passenger sex and survival?  Were women and children really the first ones in the lifeboats?\n",
        "\n",
        "Note that here both child and adult males are considered male and child and adult females are considered female in the data so we really can't conclude anything about children from this analysis.\n"
      ]
    },
    {
      "cell_type": "code",
      "metadata": {
        "id": "JZ9MIC6oQQsU",
        "colab_type": "code",
        "colab": {
          "base_uri": "https://localhost:8080/",
          "height": 85
        },
        "outputId": "0f3a78b6-a4f5-413c-e3b9-320b9671afcd"
      },
      "source": [
        "wac = pd.crosstab(index=df['Sex'], columns='count')\n",
        "print(wac)"
      ],
      "execution_count": 26,
      "outputs": [
        {
          "output_type": "stream",
          "text": [
            "col_0   count\n",
            "Sex          \n",
            "female    314\n",
            "male      573\n"
          ],
          "name": "stdout"
        }
      ]
    },
    {
      "cell_type": "code",
      "metadata": {
        "id": "_KjfU2A2QkLz",
        "colab_type": "code",
        "colab": {
          "base_uri": "https://localhost:8080/",
          "height": 142
        },
        "outputId": "f57a6edb-efe7-4397-985f-db2e674c7354"
      },
      "source": [
        "wac / wac.sum() * 100"
      ],
      "execution_count": 28,
      "outputs": [
        {
          "output_type": "execute_result",
          "data": {
            "text/html": [
              "<div>\n",
              "<style scoped>\n",
              "    .dataframe tbody tr th:only-of-type {\n",
              "        vertical-align: middle;\n",
              "    }\n",
              "\n",
              "    .dataframe tbody tr th {\n",
              "        vertical-align: top;\n",
              "    }\n",
              "\n",
              "    .dataframe thead th {\n",
              "        text-align: right;\n",
              "    }\n",
              "</style>\n",
              "<table border=\"1\" class=\"dataframe\">\n",
              "  <thead>\n",
              "    <tr style=\"text-align: right;\">\n",
              "      <th>col_0</th>\n",
              "      <th>count</th>\n",
              "    </tr>\n",
              "    <tr>\n",
              "      <th>Sex</th>\n",
              "      <th></th>\n",
              "    </tr>\n",
              "  </thead>\n",
              "  <tbody>\n",
              "    <tr>\n",
              "      <th>female</th>\n",
              "      <td>35.400225</td>\n",
              "    </tr>\n",
              "    <tr>\n",
              "      <th>male</th>\n",
              "      <td>64.599775</td>\n",
              "    </tr>\n",
              "  </tbody>\n",
              "</table>\n",
              "</div>"
            ],
            "text/plain": [
              "col_0       count\n",
              "Sex              \n",
              "female  35.400225\n",
              "male    64.599775"
            ]
          },
          "metadata": {
            "tags": []
          },
          "execution_count": 28
        }
      ]
    },
    {
      "cell_type": "markdown",
      "metadata": {
        "id": "H2bG1Kuee1NY",
        "colab_type": "text"
      },
      "source": [
        "First, is a chi-square test appropriate for these data?"
      ]
    },
    {
      "cell_type": "markdown",
      "metadata": {
        "id": "6KvffzmrBSkf",
        "colab_type": "text"
      },
      "source": [
        "Answer: "
      ]
    },
    {
      "cell_type": "markdown",
      "metadata": {
        "id": "GL8Z9zRke7qz",
        "colab_type": "text"
      },
      "source": [
        "What is the distribution of passenger sex on the Titanic?"
      ]
    },
    {
      "cell_type": "code",
      "metadata": {
        "id": "KrBQVQHHfC6d",
        "colab_type": "code",
        "colab": {}
      },
      "source": [
        "#Relative frequency of gender\n",
        "\n",
        "\n",
        "\n",
        "#Relative frequency of gender\n",
        "\n"
      ],
      "execution_count": null,
      "outputs": []
    },
    {
      "cell_type": "markdown",
      "metadata": {
        "id": "RyD2aTmaBdxB",
        "colab_type": "text"
      },
      "source": [
        "Passengers on the Titanic were..."
      ]
    },
    {
      "cell_type": "markdown",
      "metadata": {
        "id": "xaufLlDyfDi5",
        "colab_type": "text"
      },
      "source": [
        "Refresh your memory by calculating the distribution of passenger survival."
      ]
    },
    {
      "cell_type": "code",
      "metadata": {
        "id": "6GXC4hGefIlF",
        "colab_type": "code",
        "colab": {}
      },
      "source": [
        "#Frequency of survival\n",
        "\n",
        "\n",
        "\n",
        "#Relative frequency of survival\n",
        "\n"
      ],
      "execution_count": null,
      "outputs": []
    },
    {
      "cell_type": "markdown",
      "metadata": {
        "id": "9YWuLRR6CTJX",
        "colab_type": "text"
      },
      "source": [
        "Survival results: "
      ]
    },
    {
      "cell_type": "markdown",
      "metadata": {
        "id": "wzfhaJP6fI73",
        "colab_type": "text"
      },
      "source": [
        "Calculate the joint distribution of passenger sex and survival.  Add on the margins.  Can you draw any initial conclusions about the relationship between passenger sex and survival?"
      ]
    },
    {
      "cell_type": "code",
      "metadata": {
        "id": "EnfVAURhfbTP",
        "colab_type": "code",
        "colab": {}
      },
      "source": [
        "#Joint distribution and joint distribution adding margins."
      ],
      "execution_count": null,
      "outputs": []
    },
    {
      "cell_type": "markdown",
      "metadata": {
        "id": "2roTfH3jCkWW",
        "colab_type": "text"
      },
      "source": [
        "Results: "
      ]
    },
    {
      "cell_type": "markdown",
      "metadata": {
        "id": "9etbacRBfbwI",
        "colab_type": "text"
      },
      "source": [
        "Calculate the distribution of survival conditional on passenger sex.  What does this tell you?"
      ]
    },
    {
      "cell_type": "code",
      "metadata": {
        "id": "F_Jol17Jfkth",
        "colab_type": "code",
        "colab": {}
      },
      "source": [
        "#Conditional distribution of survival by passenger sex"
      ],
      "execution_count": null,
      "outputs": []
    },
    {
      "cell_type": "markdown",
      "metadata": {
        "id": "V1Tl2SjMC7a4",
        "colab_type": "text"
      },
      "source": [
        "Results: "
      ]
    },
    {
      "cell_type": "markdown",
      "metadata": {
        "id": "kSt1t2Nsfk8-",
        "colab_type": "text"
      },
      "source": [
        "Now we need to conduct the chi-square test.  What are our hypotheses?\n",
        "\n",
        "**Ho:**\n",
        "\n",
        "**Ha:** "
      ]
    },
    {
      "cell_type": "code",
      "metadata": {
        "id": "6gyJiazOfyzy",
        "colab_type": "code",
        "colab": {}
      },
      "source": [
        "#chi-square test"
      ],
      "execution_count": null,
      "outputs": []
    },
    {
      "cell_type": "markdown",
      "metadata": {
        "id": "ysZ9YgYWfz4x",
        "colab_type": "text"
      },
      "source": [
        "What is the p-value?  What do we conclude (at the 0.05 significance level) about the relationship between passenger sex and survival?"
      ]
    },
    {
      "cell_type": "markdown",
      "metadata": {
        "id": "tpYhnUxgDapA",
        "colab_type": "text"
      },
      "source": [
        "Results: "
      ]
    },
    {
      "cell_type": "markdown",
      "metadata": {
        "id": "VKLtwyJTf722",
        "colab_type": "text"
      },
      "source": [
        "Create a side-by-side bar plot illustrating the relationship of passenger sex and survival.  "
      ]
    },
    {
      "cell_type": "code",
      "metadata": {
        "id": "g4kHOpWRgY-N",
        "colab_type": "code",
        "colab": {}
      },
      "source": [
        "#Need this for graphing purposes - it's the number of sexes (male and female)\n",
        "\n",
        "N = ## Fill in here ##\n",
        "\n",
        "\n",
        "Died = ## Fill in here ## # Percent that died in each ticket class\n",
        "Survived = ## Fill in here ## #Percent that survived in each ticket class\n",
        "\n",
        "#This is more graphical stuff\n",
        "ind = np.arange(N)  # the x locations for the groups\n",
        "width = 0.35       # the width of the bars\n",
        "\n",
        "#Create the plot\n",
        "fig, ax = plt.subplots()\n",
        "rects1 = ax.bar(ind, Died, width, color='g') #bars for died\n",
        "rects2 = ax.bar(ind + width, Survived, width, color='b') #bars for survived\n",
        "\n",
        "# add some text for labels, title and axes ticks\n",
        "ax.set_ylabel('##Fill in here##')\n",
        "ax.set_title('##Fill in here##')\n",
        "ax.set_xticks(ind + width / 2)\n",
        "ax.set_xticklabels(('##Fill in here##'))\n",
        "\n",
        "ax.legend((rects1[0], rects2[0]), ('##Fill in here##))"
      ],
      "execution_count": null,
      "outputs": []
    },
    {
      "cell_type": "markdown",
      "metadata": {
        "id": "W901a8WOgbka",
        "colab_type": "text"
      },
      "source": [
        "Explain your results to someone who is interested in Titanic history but knows little about statistics."
      ]
    },
    {
      "cell_type": "markdown",
      "metadata": {
        "id": "xsrv2DwYEvyo",
        "colab_type": "text"
      },
      "source": [
        ""
      ]
    }
  ]
}